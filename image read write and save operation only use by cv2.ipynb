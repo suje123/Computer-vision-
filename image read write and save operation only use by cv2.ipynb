{
 "cells": [
  {
   "cell_type": "code",
   "execution_count": 2,
   "metadata": {},
   "outputs": [],
   "source": [
    "import cv2"
   ]
  },
  {
   "cell_type": "code",
   "execution_count": 11,
   "metadata": {},
   "outputs": [],
   "source": [
    "img1 = cv2.imread('q.jpg',1)"
   ]
  },
  {
   "cell_type": "code",
   "execution_count": 22,
   "metadata": {
    "scrolled": true
   },
   "outputs": [
    {
     "name": "stdout",
     "output_type": "stream",
     "text": [
      "Give image with color [[[ 21  27  22]\n",
      "  [ 20  27  21]\n",
      "  [ 18  28  23]\n",
      "  ...\n",
      "  [ 71  85 103]\n",
      "  [ 71  86 103]\n",
      "  [ 70  86 103]]\n",
      "\n",
      " [[ 21  26  25]\n",
      "  [ 21  27  23]\n",
      "  [ 20  27  22]\n",
      "  ...\n",
      "  [ 70  84 102]\n",
      "  [ 71  85 103]\n",
      "  [ 70  86 103]]\n",
      "\n",
      " [[ 21  26  26]\n",
      "  [ 22  26  24]\n",
      "  [ 23  27  22]\n",
      "  ...\n",
      "  [ 72  86 104]\n",
      "  [ 72  86 104]\n",
      "  [ 71  87 104]]\n",
      "\n",
      " ...\n",
      "\n",
      " [[ 27  39  39]\n",
      "  [ 34  48  47]\n",
      "  [ 29  42  42]\n",
      "  ...\n",
      "  [ 22  37  30]\n",
      "  [ 23  39  33]\n",
      "  [ 16  33  29]]\n",
      "\n",
      " [[ 27  41  43]\n",
      "  [ 27  41  43]\n",
      "  [ 14  29  31]\n",
      "  ...\n",
      "  [ 18  38  32]\n",
      "  [ 22  44  40]\n",
      "  [ 19  43  39]]\n",
      "\n",
      " [[ 24  41  42]\n",
      "  [ 27  45  46]\n",
      "  [ 29  48  49]\n",
      "  ...\n",
      "  [ 15  36  30]\n",
      "  [ 20  40  35]\n",
      "  [ 22  43  40]]]\n"
     ]
    }
   ],
   "source": [
    "# image with color\n",
    "img1 = cv2.resize(img1,(1280,700))\n",
    "cv2.imshow(\"nature\",img1)\n",
    "print(\"Give image with color\",img1)\n",
    "cv2.waitKey(0)\n",
    "cv2.destroyAllWindows()\n"
   ]
  },
  {
   "cell_type": "code",
   "execution_count": 21,
   "metadata": {},
   "outputs": [
    {
     "name": "stdout",
     "output_type": "stream",
     "text": [
      "gray image [[25 25 25 ... 89 89 89]\n",
      " [25 25 25 ... 88 89 89]\n",
      " [26 25 25 ... 90 90 90]\n",
      " ...\n",
      " [38 46 41 ... 33 35 30]\n",
      " [40 40 28 ... 34 40 39]\n",
      " [39 43 46 ... 32 36 40]]\n"
     ]
    }
   ],
   "source": [
    "# image with gray color\n",
    "img2 = cv2.imread('q.jpg',0)\n",
    "img2 = cv2.resize(img2,(1280,700))\n",
    "cv2.imshow(\"gray image\",img2)\n",
    "print(\"gray image\",img2)\n",
    "cv2.waitKey(0)\n",
    "cv2.destroyAllWindows()"
   ]
  },
  {
   "cell_type": "code",
   "execution_count": 23,
   "metadata": {},
   "outputs": [],
   "source": [
    "# load image as such including alpha channel\n",
    "img3 = cv2.imread('q.jpg',-1)\n",
    "img3 = cv2.resize(img3,(1280,700))\n",
    "cv2.imshow('use alpha channel',img3)\n",
    "cv2.waitKey(0)\n",
    "cv2.destroyAllWindows()"
   ]
  },
  {
   "cell_type": "code",
   "execution_count": 25,
   "metadata": {},
   "outputs": [],
   "source": [
    "# store image\n",
    "img1 = cv2.imread('q.jpg')\n",
    "img1 = cv2.resize(img1,(560,700))\n",
    "img1 = cv2.flip(img1,0)\n",
    "cv2.imshow(\"converted image\",img1)\n",
    "k = cv2.waitKey(0)\n",
    "if k ==ord('q'):\n",
    "    cv2.destroyAllWindows()\n",
    "elif k == ord(\"s\"):\n",
    "    cv2.imwrite(\"D:\\save.png\",img1)\n",
    "    cv2.destroyAllWindows()\n"
   ]
  },
  {
   "cell_type": "code",
   "execution_count": null,
   "metadata": {},
   "outputs": [],
   "source": []
  }
 ],
 "metadata": {
  "kernelspec": {
   "display_name": "Python 3",
   "language": "python",
   "name": "python3"
  },
  "language_info": {
   "codemirror_mode": {
    "name": "ipython",
    "version": 3
   },
   "file_extension": ".py",
   "mimetype": "text/x-python",
   "name": "python",
   "nbconvert_exporter": "python",
   "pygments_lexer": "ipython3",
   "version": "3.8.5"
  }
 },
 "nbformat": 4,
 "nbformat_minor": 4
}
